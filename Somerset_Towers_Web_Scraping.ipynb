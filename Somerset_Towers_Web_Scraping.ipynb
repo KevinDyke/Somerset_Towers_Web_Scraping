{
 "cells": [
  {
   "cell_type": "markdown",
   "metadata": {},
   "source": [
    "# Exercise in Web scraping. Display a google map of church towers in Somerset scrapped from a Wikipedia page."
   ]
  },
  {
   "cell_type": "code",
   "execution_count": 1,
   "metadata": {
    "collapsed": true
   },
   "outputs": [],
   "source": [
    "import pickle\n",
    "import json\n",
    "from urllib.request import urlopen\n",
    "from bs4 import BeautifulSoup\n",
    "import re\n",
    "import gmaps\n",
    "import gmaps.datasets\n",
    "import os"
   ]
  },
  {
   "cell_type": "code",
   "execution_count": 2,
   "metadata": {
    "collapsed": true
   },
   "outputs": [],
   "source": [
    "    \n",
    "html = urlopen(\"https://en.wikipedia.org/wiki/List_of_Somerset_towers\")\n",
    "    \n",
    "res = BeautifulSoup(html.read(),\"html5lib\");\n",
    " \n",
    "#print(res.title)"
   ]
  },
  {
   "cell_type": "code",
   "execution_count": 3,
   "metadata": {
    "collapsed": true
   },
   "outputs": [],
   "source": [
    "# list to hold data about the towers\n",
    "towers = []\n",
    "\n",
    "# Each table about the towers is a wikitable sortable \n",
    "# use Beautiful soup to load them all\n",
    "tables = res.findAll(\"table\",{\"class\" : \"wikitable sortable\"})\n",
    "#print(\"There are \" + str(len(tables)) + \" tables\") # 14/12/2107 13 tables\n",
    "\n",
    "for table in tables:\n",
    "# Read in all the rows of the table\n",
    "    rows = table.findAll(\"tr\")\n",
    "    # first row defines the columns headers etc\n",
    "    for row in range(1,len(rows)):\n",
    "        # get the table enteries <td>\n",
    "        entries = rows[row].findAll(\"td\")\n",
    "        # all the required data is stored in the fourth td\n",
    "        # example\n",
    "        # churchill\n",
    "        # 51°20′03″N 2°48′00″W / 51.3342°N 2.8001°W / 51.3342; -2.8001 (Church of St John the Baptist, Churchill)\n",
    "        # split the entries into two seperate entries\n",
    "        location = entries[4].text.split('\\n')\n",
    "        # all the data we want is in the second line\n",
    "        # find the Church's name and location\n",
    "        nameLoc = re.search(\"\\((.*),\\s*(.*)\\)\",location[1])\n",
    "        if (nameLoc):\n",
    "            church = nameLoc.group(1)\n",
    "            place = nameLoc.group(2)\n",
    "         # we want the lat/long as digits i.e the third set of lat long            \n",
    "        coords = location[1].split(' ')\n",
    "        lat = coords[6].replace(';','') # remove unwanted semi-colon\n",
    "        longt = coords[7].strip()       # remove unwanted spaces\n",
    "        \n",
    "        # the data if negative is decoded incorrectly and has \\ufeff at the end of the string\n",
    "        lat = lat.replace(u'\\ufeff', '')\n",
    "        longt = longt.replace(u'\\ufeff', '')\n",
    "        \n",
    "        # create a tuple of values and add to the list of towers\n",
    "        temp = { \"name\" : church, \"location\" : place , \"lat\" : lat, \"longt\": longt }\n",
    "        towers.append(temp)\n",
    "\n",
    "# save to file in json format\n",
    "with open('churches.json', 'wt') as outfile:\n",
    "    json.dump(towers, outfile)    "
   ]
  },
  {
   "cell_type": "code",
   "execution_count": 4,
   "metadata": {
    "collapsed": true
   },
   "outputs": [],
   "source": [
    "# google api key stored as environmental variable for privacy\n",
    "key = os.getenv('GMAP_API_KEY')\n",
    "#print(key)\n",
    "# set up the google map using the api key\n",
    "gmaps.configure(api_key=key) # Fill in with your API key\n"
   ]
  },
  {
   "cell_type": "code",
   "execution_count": 5,
   "metadata": {},
   "outputs": [
    {
     "data": {
      "application/vnd.jupyter.widget-view+json": {
       "model_id": "ce49efd4b01c475b93b29b707cf83a9c",
       "version_major": 2,
       "version_minor": 0
      },
      "text/html": [
       "<p>Failed to display Jupyter Widget of type <code>Figure</code>.</p>\n",
       "<p>\n",
       "  If you're reading this message in the Jupyter Notebook or JupyterLab Notebook, it may mean\n",
       "  that the widgets JavaScript is still loading. If this message persists, it\n",
       "  likely means that the widgets JavaScript library is either not installed or\n",
       "  not enabled. See the <a href=\"https://ipywidgets.readthedocs.io/en/stable/user_install.html\">Jupyter\n",
       "  Widgets Documentation</a> for setup instructions.\n",
       "</p>\n",
       "<p>\n",
       "  If you're reading this message in another frontend (for example, a static\n",
       "  rendering on GitHub or <a href=\"https://nbviewer.jupyter.org/\">NBViewer</a>),\n",
       "  it may mean that your frontend doesn't currently support widgets.\n",
       "</p>\n"
      ],
      "text/plain": [
       "Figure()"
      ]
     },
     "metadata": {},
     "output_type": "display_data"
    }
   ],
   "source": [
    "# plot the churches on a google map\n",
    "# Center on Taunton (County Town)\n",
    "fig = gmaps.figure(center=(51.01494, -3.10293),zoom_level=8)\n",
    "\n",
    "locations = []\n",
    "for tower in towers:\n",
    "    locations.append(((float(tower[\"lat\"]),float(tower[\"longt\"]))))\n",
    "\n",
    "heatmap_layer = gmaps.heatmap_layer(locations)\n",
    "fig.add_layer(heatmap_layer)\n",
    "fig"
   ]
  }
 ],
 "metadata": {
  "kernelspec": {
   "display_name": "Python 3",
   "language": "python",
   "name": "python3"
  },
  "language_info": {
   "codemirror_mode": {
    "name": "ipython",
    "version": 3
   },
   "file_extension": ".py",
   "mimetype": "text/x-python",
   "name": "python",
   "nbconvert_exporter": "python",
   "pygments_lexer": "ipython3",
   "version": "3.6.1"
  }
 },
 "nbformat": 4,
 "nbformat_minor": 2
}
